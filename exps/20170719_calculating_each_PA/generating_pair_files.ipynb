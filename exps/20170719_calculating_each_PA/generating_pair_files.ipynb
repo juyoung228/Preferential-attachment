{
 "cells": [
  {
   "cell_type": "code",
   "execution_count": 47,
   "metadata": {
    "collapsed": true
   },
   "outputs": [],
   "source": [
    "import os\n",
    "\n",
    "def get_filepaths(directory):\n",
    "    \"\"\"\n",
    "    This function will generate the file names in a directory \n",
    "    tree by walking the tree either top-down or bottom-up. For each \n",
    "    directory in the tree rooted at directory top (including top itself), \n",
    "    it yields a 3-tuple (dirpath, dirnames, filenames).\n",
    "    \"\"\"\n",
    "    file_paths = []  # List which will store all of the full filepaths.\n",
    "    # Walk the tree.\n",
    "    for root, directories, files in os.walk(directory):\n",
    "        for filename in files:\n",
    "            # Join the two strings in order to form the full filepath.\n",
    "            filepath = os.path.join(root, filename)\n",
    "            file_paths.append(filepath)  # Add it to the list.\n",
    "    return file_paths  # Self-explanatory."
   ]
  },
  {
   "cell_type": "code",
   "execution_count": 53,
   "metadata": {
    "collapsed": false
   },
   "outputs": [],
   "source": [
    "import networkx as nx\n",
    "\n",
    "def before_calculate(path):\n",
    "    '''\n",
    "    This function is for building before & after graph according to the \n",
    "    time group (1~10)\n",
    "    '''\n",
    "    year_categories = {}\n",
    "    \n",
    "    after = nx.DiGraph()\n",
    "    before = nx.DiGraph()\n",
    "    \n",
    "    f = open(path,'r')\n",
    "    lines = f.readlines(0)\n",
    "    for line in lines:\n",
    "        pairs = line.split('\\t')[0]+'\\t'+line.split('\\t')[1]\n",
    "        #print(pairs)\n",
    "        year_categories[pairs] = None\n",
    "    \n",
    "    #print(year_categories)\n",
    "    f_after = open(\"F:\\\\13N_0403\\\\\"+(path.split(\"\\\\\")[6]).split(\"_\")[0]+\"_2015_N_n.txt\",'r')\n",
    "    #f_after = open(\"C:\\\\Github\\\\preferential attachment\\\\data\\\\170720\\\\S\\\\\"+(path.split(\"\\\\\")[6]).split(\"_\")[0]+\"_2015_N_n.txt\",'r')\n",
    "    lines_after = f_after.readlines(0)\n",
    "    for line_after in lines_after:\n",
    "        \n",
    "        if line_after.replace(\"\\n\",\"\") in year_categories:\n",
    "            #print(\")))\"+line_after.replace(\"\\n\",\"\"))\n",
    "            after.add_edge(line_after.split('\\t')[0], line_after.split('\\t')[1])\n",
    "            \n",
    "    \n",
    "    f_before = open(\"F:\\\\13N_0403\\\\\"+(path.split(\"\\\\\")[6]).split(\"_\")[0]+\"_2014_N_n.txt\",'r')\n",
    "    #f_before = open(\"C:\\\\Github\\\\preferential attachment\\\\data\\\\170720\\\\S\\\\\"+(path.split(\"\\\\\")[6]).split(\"_\")[0]+\"_2014_N_n.txt\",'r')\n",
    "    \n",
    "    lines_before = f_before.readlines(0)\n",
    "    for line_before in lines_before:\n",
    "        if line_before in year_categories:\n",
    "            before.add_edge(line_after.split('\\t')[0], line_before.split('\\t')[1])\n",
    "    \n",
    "    print (\"done\")\n",
    "    #calculate(path, before, after)"
   ]
  },
  {
   "cell_type": "code",
   "execution_count": 49,
   "metadata": {
    "collapsed": true
   },
   "outputs": [],
   "source": [
    "def calculate (path, before, after):\n",
    "    '''\n",
    "    This function is for calculting the average number of new nodes A(n) attached to the existing nodes which obtained n degree.\n",
    "    After the calculation, the pairs (n, A(n)) gained by the calculation are plotted in a log-log plot. \n",
    "    According to Milojević (2010) and Jeong, Nede, & Barabasi (2003), \n",
    "    the slope of the plotted line in a log-log plot gets closer to 1 \n",
    "    when the preferential attachment rules the formation of a network. \n",
    "    '''  \n",
    "    degrees_before = {}\n",
    "    pairs = {}\n",
    "    x = []\n",
    "    y = []\n",
    "    #complete \n",
    "    for i in before.nodes():\n",
    "        if before.in_degree(i) not in degrees_before:\n",
    "            degrees_before[before.in_degree(i)] = 1\n",
    "        else: degrees_before[before.in_degree(i)] += 1\n",
    "            \n",
    "        if before.in_degree(i) not in pairs:\n",
    "            pairs[before.in_degree(i)] = after.in_degree(i) - before.in_degree(i)\n",
    "        else: pairs[before.in_degree(i)] += after.in_degree(i) - before.in_degree(i) \n",
    "    for n,An in pairs.items():\n",
    "        x.append(n)\n",
    "        y.append(An/float(degrees_before.get(n)))\n",
    "        #print(n,l/degreeF.get(n))\n",
    "    f = open(path.split(\".\")[0]+path.split(\".\")[1]+\".txt\",\"w\")\n",
    "    f.write(str(x)+\"\\n\"+str(y))"
   ]
  },
  {
   "cell_type": "code",
   "execution_count": 54,
   "metadata": {
    "collapsed": false
   },
   "outputs": [
    {
     "name": "stdout",
     "output_type": "stream",
     "text": [
      "done\n"
     ]
    },
    {
     "ename": "KeyboardInterrupt",
     "evalue": "",
     "output_type": "error",
     "traceback": [
      "\u001b[0;31m---------------------------------------------------------------------------\u001b[0m",
      "\u001b[0;31mKeyboardInterrupt\u001b[0m                         Traceback (most recent call last)",
      "\u001b[0;32m<ipython-input-54-50aaba63294e>\u001b[0m in \u001b[0;36m<module>\u001b[0;34m()\u001b[0m\n\u001b[1;32m      1\u001b[0m \u001b[0mpaths\u001b[0m \u001b[1;33m=\u001b[0m \u001b[0mget_filepaths\u001b[0m\u001b[1;33m(\u001b[0m\u001b[1;34m\"C:\\\\Github\\\\preferential attachment\\\\data\\\\170720\\\\Use\"\u001b[0m\u001b[1;33m)\u001b[0m\u001b[1;33m\u001b[0m\u001b[0m\n\u001b[1;32m      2\u001b[0m \u001b[1;32mfor\u001b[0m \u001b[0mpath\u001b[0m \u001b[1;32min\u001b[0m \u001b[0mpaths\u001b[0m\u001b[1;33m:\u001b[0m\u001b[1;33m\u001b[0m\u001b[0m\n\u001b[0;32m----> 3\u001b[0;31m     \u001b[0mbefore_calculate\u001b[0m\u001b[1;33m(\u001b[0m\u001b[0mpath\u001b[0m\u001b[1;33m)\u001b[0m\u001b[1;33m\u001b[0m\u001b[0m\n\u001b[0m\u001b[1;32m      4\u001b[0m     \u001b[1;31m#print(path.split(\"\\\\\")[6])\u001b[0m\u001b[1;33m\u001b[0m\u001b[1;33m\u001b[0m\u001b[0m\n\u001b[1;32m      5\u001b[0m     \u001b[1;31m#print(path.split(\".\")[0]+path.split(\".\")[1])\u001b[0m\u001b[1;33m\u001b[0m\u001b[1;33m\u001b[0m\u001b[0m\n",
      "\u001b[0;31mKeyboardInterrupt\u001b[0m: "
     ]
    }
   ],
   "source": [
    "paths = get_filepaths(\"C:\\\\Github\\\\preferential attachment\\\\data\\\\170720\\\\Use\")\n",
    "for path in paths:\n",
    "    before_calculate(path)\n",
    "    #print(path.split(\"\\\\\")[6])\n",
    "    #print(path.split(\".\")[0]+path.split(\".\")[1])"
   ]
  },
  {
   "cell_type": "code",
   "execution_count": 36,
   "metadata": {
    "collapsed": false
   },
   "outputs": [],
   "source": [
    "a = ['d','g']\n",
    "b = ['s','g']"
   ]
  },
  {
   "cell_type": "code",
   "execution_count": 16,
   "metadata": {
    "collapsed": false
   },
   "outputs": [
    {
     "name": "stdout",
     "output_type": "stream",
     "text": [
      "['d', 'g'] ['s', 'g']\n"
     ]
    }
   ],
   "source": [
    "print(a,b)"
   ]
  },
  {
   "cell_type": "code",
   "execution_count": null,
   "metadata": {
    "collapsed": true
   },
   "outputs": [],
   "source": []
  }
 ],
 "metadata": {
  "anaconda-cloud": {},
  "kernelspec": {
   "display_name": "Python [conda root]",
   "language": "python",
   "name": "conda-root-py"
  },
  "language_info": {
   "codemirror_mode": {
    "name": "ipython",
    "version": 3
   },
   "file_extension": ".py",
   "mimetype": "text/x-python",
   "name": "python",
   "nbconvert_exporter": "python",
   "pygments_lexer": "ipython3",
   "version": "3.5.2"
  }
 },
 "nbformat": 4,
 "nbformat_minor": 2
}
