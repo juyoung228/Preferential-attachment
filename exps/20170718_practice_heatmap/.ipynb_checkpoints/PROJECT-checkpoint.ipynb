{
 "cells": [
  {
   "cell_type": "code",
   "execution_count": 130,
   "metadata": {
    "collapsed": true
   },
   "outputs": [],
   "source": []
  },
  {
   "cell_type": "code",
   "execution_count": 131,
   "metadata": {
    "collapsed": false
   },
   "outputs": [],
   "source": []
  },
  {
   "cell_type": "code",
   "execution_count": 12,
   "metadata": {
    "collapsed": true
   },
   "outputs": [],
   "source": [
    "import networkx as nx\n",
    "\n",
    "def addGraph (G, path):\n",
    "    with open(path) as f:\n",
    "        datalines = (line.rstrip('\\n')for line in f)\n",
    "        for line in datalines:\n",
    "            a = str(line.split(\"\\t\")[0])\n",
    "            b = str(line.split(\"\\t\")[1])\n",
    "            G.add_edge(a,b)\n",
    "            \n",
    "def calculate (A, B):\n",
    "    degreeF = {}\n",
    "    degreeA = {}\n",
    "    x = []\n",
    "    y = []\n",
    "    for i in A.nodes():\n",
    "        if A.in_degree(i) not in degreeF:\n",
    "            degreeF[A.in_degree(i)] = 1\n",
    "        else: degreeF[A.in_degree(i)] += 1 \n",
    "        if A.in_degree(i) not in degreeA:\n",
    "            degreeA[A.in_degree(i)] = B.in_degree(i) - A.in_degree(i)\n",
    "        else: degreeA[A.in_degree(i)] += B.in_degree(i) - A.in_degree(i) \n",
    "    for n,l in degreeA.items():\n",
    "        x.append(n)\n",
    "        y.append(l/float(degreeF.get(n)))\n",
    "        #print(n,l/degreeF.get(n))\n",
    "    return x,y"
   ]
  },
  {
   "cell_type": "code",
   "execution_count": 18,
   "metadata": {
    "collapsed": false
   },
   "outputs": [],
   "source": [
    "etc1 = nx.DiGraph()\n",
    "addGraph(etc1,\"G:\\\\2017-1\\\\Network Science\\\\Project\\\\2010.txt\")"
   ]
  },
  {
   "cell_type": "code",
   "execution_count": null,
   "metadata": {
    "collapsed": true
   },
   "outputs": [],
   "source": [
    "def doAll(num):\n",
    "    a = nx.DiGraph()\n",
    "    addGraph(a, \"/gpfs/home/j/u/juyan/Karst/\"+num+\"_etc_N_n.txt\")\n",
    "    \n",
    "    b = nx.DiGraph()\n",
    "    addGraph(b, \"/gpfs/home/j/u/juyan/Karst/\"+num+\"_2010_N_n.txt\")\n",
    "    \n",
    "    f = open(\"/gpfs/home/j/u/juyan/Karst/\"+num+\"_2010.txt\", \"w\")\n",
    "    f.write(', '.join(map(str, calculate(a, b))))\n",
    "    f.close()\n",
    "    \n",
    "    c = nx.DiGraph()\n",
    "    addGraph(c, \"/gpfs/home/j/u/juyan/Karst/\"+num+\"_2011_N_n.txt\")\n",
    "    \n",
    "    f = open(\"/gpfs/home/j/u/juyan/Karst/\"+num+\"_2011.txt\", \"w\")\n",
    "    f.write(', '.join(map(str, calculate(b, c))))\n",
    "    f.close()\n",
    "    \n",
    "    d = nx.DiGraph()\n",
    "    addGraph(d, \"/gpfs/home/j/u/juyan/Karst/\"+num+\"_2012_N_n.txt\")\n",
    "    \n",
    "    f = open(\"/gpfs/home/j/u/juyan/Karst/\"+num+\"_2012.txt\", \"w\")\n",
    "    f.write('d, '.join(map(str, calculate(c, d))))\n",
    "    f.close()\n",
    "    \n",
    "    e = nx.DiGraph()\n",
    "    addGraph(e, \"/gpfs/home/j/u/juyan/Karst/\"+num+\"_2013_N_n.txt\")\n",
    "    \n",
    "    f = open(\"/gpfs/home/j/u/juyan/Karst/\"+num+\"_2013.txt\", \"w\")\n",
    "    f.write(', '.join(map(str, calculate(d, e))))\n",
    "    f.close()\n",
    "    \n",
    "    fg = nx.DiGraph()\n",
    "    addGraph(fg, \"/gpfs/home/j/u/juyan/Karst/\"+num+\"_2014_N_n.txt\")\n",
    "    \n",
    "    f = open(\"/gpfs/home/j/u/juyan/Karst/\"+num+\"_2014.txt\", \"w\")\n",
    "    f.write(', '.join(map(str, calculate(e, fg))))\n",
    "    f.close()\n",
    "    \n",
    "    g = nx.DiGraph()\n",
    "    addGraph(g, \"/gpfs/home/j/u/juyan/Karst/\"+num+\"_2015_N_n.txt\")\n",
    "    \n",
    "    f = open(\"/gpfs/home/j/u/juyan/Karst/\"+num+\"_2015.txt\", \"w\")\n",
    "    f.write(', '.join(map(str, calculate(fg, g))))\n",
    "    f.close() "
   ]
  },
  {
   "cell_type": "code",
   "execution_count": 19,
   "metadata": {
    "collapsed": false
   },
   "outputs": [],
   "source": [
    "_2011 = etc1.copy()\n",
    "addGraph(_2011, \"G:\\\\2017-1\\\\Network Science\\\\Project\\\\2011.txt\")"
   ]
  },
  {
   "cell_type": "code",
   "execution_count": 20,
   "metadata": {
    "collapsed": false
   },
   "outputs": [
    {
     "data": {
      "text/plain": [
       "([0, 1, 2], [0.0, 1.0, 2.0])"
      ]
     },
     "execution_count": 20,
     "metadata": {},
     "output_type": "execute_result"
    }
   ],
   "source": [
    "calculate(etc1, _2011)"
   ]
  },
  {
   "cell_type": "code",
   "execution_count": 21,
   "metadata": {
    "collapsed": false
   },
   "outputs": [],
   "source": [
    "_2012 = _2011.copy()\n",
    "addGraph(_2012, \"G:\\\\2017-1\\\\Network Science\\\\Project\\\\2012.txt\")"
   ]
  },
  {
   "cell_type": "code",
   "execution_count": 22,
   "metadata": {
    "collapsed": false
   },
   "outputs": [
    {
     "data": {
      "text/plain": [
       "([0, 2, 4], [0.2, 0.0, 1.0])"
      ]
     },
     "execution_count": 22,
     "metadata": {},
     "output_type": "execute_result"
    }
   ],
   "source": [
    "calculate(_2011, _2012)"
   ]
  },
  {
   "cell_type": "code",
   "execution_count": 25,
   "metadata": {
    "collapsed": false
   },
   "outputs": [
    {
     "data": {
      "text/plain": [
       "([0, 1, 2], [0.5, 1.0, 3.0])"
      ]
     },
     "execution_count": 25,
     "metadata": {},
     "output_type": "execute_result"
    }
   ],
   "source": [
    "calculate(etc1, _2012)"
   ]
  },
  {
   "cell_type": "code",
   "execution_count": null,
   "metadata": {
    "collapsed": true
   },
   "outputs": [],
   "source": []
  },
  {
   "cell_type": "code",
   "execution_count": null,
   "metadata": {
    "collapsed": true
   },
   "outputs": [],
   "source": []
  },
  {
   "cell_type": "code",
   "execution_count": null,
   "metadata": {
    "collapsed": true
   },
   "outputs": [],
   "source": []
  },
  {
   "cell_type": "code",
   "execution_count": null,
   "metadata": {
    "collapsed": true
   },
   "outputs": [],
   "source": []
  },
  {
   "cell_type": "code",
   "execution_count": null,
   "metadata": {
    "collapsed": false
   },
   "outputs": [],
   "source": [
    "_20101 = etc1.copy()\n",
    "addGraph(_20101, \"F:\\\\13N_D\\\\1_2010_D.txt\")"
   ]
  },
  {
   "cell_type": "code",
   "execution_count": 137,
   "metadata": {
    "collapsed": false
   },
   "outputs": [
    {
     "data": {
      "text/plain": [
       "([], [])"
      ]
     },
     "execution_count": 137,
     "metadata": {},
     "output_type": "execute_result"
    }
   ],
   "source": [
    "calculate(etc1, _20101)"
   ]
  },
  {
   "cell_type": "code",
   "execution_count": 128,
   "metadata": {
    "collapsed": true
   },
   "outputs": [],
   "source": [
    "H2 = H.copy()\n",
    "addGraph(H2,\"G:\\\\2017-1\\\\Network Science\\\\Project\\\\2012.txt\" )"
   ]
  },
  {
   "cell_type": "code",
   "execution_count": 129,
   "metadata": {
    "collapsed": false
   },
   "outputs": [
    {
     "data": {
      "text/plain": [
       "([1, 3, 4], [0.2, 0.0, 1.0])"
      ]
     },
     "execution_count": 129,
     "metadata": {},
     "output_type": "execute_result"
    }
   ],
   "source": [
    "calculate(H,H2)"
   ]
  },
  {
   "cell_type": "code",
   "execution_count": null,
   "metadata": {
    "collapsed": true
   },
   "outputs": [],
   "source": []
  },
  {
   "cell_type": "code",
   "execution_count": null,
   "metadata": {
    "collapsed": true
   },
   "outputs": [],
   "source": []
  },
  {
   "cell_type": "code",
   "execution_count": null,
   "metadata": {
    "collapsed": true
   },
   "outputs": [],
   "source": []
  },
  {
   "cell_type": "code",
   "execution_count": null,
   "metadata": {
    "collapsed": true
   },
   "outputs": [],
   "source": []
  },
  {
   "cell_type": "code",
   "execution_count": null,
   "metadata": {
    "collapsed": true
   },
   "outputs": [],
   "source": []
  },
  {
   "cell_type": "code",
   "execution_count": null,
   "metadata": {
    "collapsed": true
   },
   "outputs": [],
   "source": []
  },
  {
   "cell_type": "code",
   "execution_count": null,
   "metadata": {
    "collapsed": true
   },
   "outputs": [],
   "source": []
  },
  {
   "cell_type": "code",
   "execution_count": null,
   "metadata": {
    "collapsed": true
   },
   "outputs": [],
   "source": []
  },
  {
   "cell_type": "code",
   "execution_count": null,
   "metadata": {
    "collapsed": true
   },
   "outputs": [],
   "source": []
  },
  {
   "cell_type": "code",
   "execution_count": null,
   "metadata": {
    "collapsed": true
   },
   "outputs": [],
   "source": []
  },
  {
   "cell_type": "code",
   "execution_count": null,
   "metadata": {
    "collapsed": true
   },
   "outputs": [],
   "source": []
  },
  {
   "cell_type": "code",
   "execution_count": null,
   "metadata": {
    "collapsed": true
   },
   "outputs": [],
   "source": []
  },
  {
   "cell_type": "code",
   "execution_count": null,
   "metadata": {
    "collapsed": true
   },
   "outputs": [],
   "source": []
  },
  {
   "cell_type": "code",
   "execution_count": null,
   "metadata": {
    "collapsed": true
   },
   "outputs": [],
   "source": []
  },
  {
   "cell_type": "code",
   "execution_count": null,
   "metadata": {
    "collapsed": true
   },
   "outputs": [],
   "source": []
  }
 ],
 "metadata": {
  "anaconda-cloud": {},
  "kernelspec": {
   "display_name": "Python [default]",
   "language": "python",
   "name": "python3"
  },
  "language_info": {
   "codemirror_mode": {
    "name": "ipython",
    "version": 3
   },
   "file_extension": ".py",
   "mimetype": "text/x-python",
   "name": "python",
   "nbconvert_exporter": "python",
   "pygments_lexer": "ipython3",
   "version": "3.5.2"
  }
 },
 "nbformat": 4,
 "nbformat_minor": 1
}
